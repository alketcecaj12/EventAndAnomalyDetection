{
 "cells": [
  {
   "cell_type": "code",
   "execution_count": 116,
   "metadata": {},
   "outputs": [],
   "source": [
    "import pandas as pd\n",
    "import matplotlib.pyplot as plt \n",
    "from sklearn.model_selection import train_test_split\n",
    "\n",
    "import numpy as np\n",
    "import tensorflow as tf\n",
    "\n",
    "from sklearn.metrics import accuracy_score, precision_score, recall_score\n",
    "from tensorflow.keras import layers, losses\n",
    "\n",
    "from tensorflow.keras.models import Model"
   ]
  },
  {
   "cell_type": "code",
   "execution_count": 117,
   "metadata": {},
   "outputs": [
    {
     "data": {
      "text/html": [
       "<div>\n",
       "<style scoped>\n",
       "    .dataframe tbody tr th:only-of-type {\n",
       "        vertical-align: middle;\n",
       "    }\n",
       "\n",
       "    .dataframe tbody tr th {\n",
       "        vertical-align: top;\n",
       "    }\n",
       "\n",
       "    .dataframe thead th {\n",
       "        text-align: right;\n",
       "    }\n",
       "</style>\n",
       "<table border=\"1\" class=\"dataframe\">\n",
       "  <thead>\n",
       "    <tr style=\"text-align: right;\">\n",
       "      <th></th>\n",
       "      <th>0</th>\n",
       "      <th>1</th>\n",
       "      <th>2</th>\n",
       "      <th>3</th>\n",
       "      <th>4</th>\n",
       "      <th>5</th>\n",
       "      <th>6</th>\n",
       "      <th>7</th>\n",
       "      <th>8</th>\n",
       "      <th>9</th>\n",
       "      <th>...</th>\n",
       "      <th>87</th>\n",
       "      <th>88</th>\n",
       "      <th>89</th>\n",
       "      <th>90</th>\n",
       "      <th>91</th>\n",
       "      <th>92</th>\n",
       "      <th>93</th>\n",
       "      <th>94</th>\n",
       "      <th>95</th>\n",
       "      <th>label</th>\n",
       "    </tr>\n",
       "  </thead>\n",
       "  <tbody>\n",
       "    <tr>\n",
       "      <th>0</th>\n",
       "      <td>338.0</td>\n",
       "      <td>334.0</td>\n",
       "      <td>331.0</td>\n",
       "      <td>328.0</td>\n",
       "      <td>324.0</td>\n",
       "      <td>330.0</td>\n",
       "      <td>318.0</td>\n",
       "      <td>314.0</td>\n",
       "      <td>311.0</td>\n",
       "      <td>308.0</td>\n",
       "      <td>...</td>\n",
       "      <td>525.0</td>\n",
       "      <td>534.0</td>\n",
       "      <td>522.0</td>\n",
       "      <td>508.0</td>\n",
       "      <td>507.0</td>\n",
       "      <td>529.0</td>\n",
       "      <td>528.0</td>\n",
       "      <td>531.0</td>\n",
       "      <td>506.0</td>\n",
       "      <td>0</td>\n",
       "    </tr>\n",
       "    <tr>\n",
       "      <th>1</th>\n",
       "      <td>501.0</td>\n",
       "      <td>492.0</td>\n",
       "      <td>492.0</td>\n",
       "      <td>490.0</td>\n",
       "      <td>471.0</td>\n",
       "      <td>462.0</td>\n",
       "      <td>442.0</td>\n",
       "      <td>428.0</td>\n",
       "      <td>419.0</td>\n",
       "      <td>413.0</td>\n",
       "      <td>...</td>\n",
       "      <td>537.0</td>\n",
       "      <td>532.0</td>\n",
       "      <td>522.0</td>\n",
       "      <td>522.0</td>\n",
       "      <td>522.0</td>\n",
       "      <td>492.0</td>\n",
       "      <td>492.0</td>\n",
       "      <td>490.0</td>\n",
       "      <td>491.0</td>\n",
       "      <td>0</td>\n",
       "    </tr>\n",
       "    <tr>\n",
       "      <th>2</th>\n",
       "      <td>489.0</td>\n",
       "      <td>487.0</td>\n",
       "      <td>463.0</td>\n",
       "      <td>447.0</td>\n",
       "      <td>447.0</td>\n",
       "      <td>421.0</td>\n",
       "      <td>406.0</td>\n",
       "      <td>398.0</td>\n",
       "      <td>395.0</td>\n",
       "      <td>388.0</td>\n",
       "      <td>...</td>\n",
       "      <td>525.0</td>\n",
       "      <td>512.0</td>\n",
       "      <td>508.0</td>\n",
       "      <td>491.0</td>\n",
       "      <td>494.0</td>\n",
       "      <td>494.0</td>\n",
       "      <td>484.0</td>\n",
       "      <td>482.0</td>\n",
       "      <td>482.0</td>\n",
       "      <td>0</td>\n",
       "    </tr>\n",
       "    <tr>\n",
       "      <th>3</th>\n",
       "      <td>468.0</td>\n",
       "      <td>456.0</td>\n",
       "      <td>456.0</td>\n",
       "      <td>438.0</td>\n",
       "      <td>426.0</td>\n",
       "      <td>409.0</td>\n",
       "      <td>405.0</td>\n",
       "      <td>392.0</td>\n",
       "      <td>383.0</td>\n",
       "      <td>383.0</td>\n",
       "      <td>...</td>\n",
       "      <td>501.0</td>\n",
       "      <td>494.0</td>\n",
       "      <td>494.0</td>\n",
       "      <td>484.0</td>\n",
       "      <td>466.0</td>\n",
       "      <td>466.0</td>\n",
       "      <td>450.0</td>\n",
       "      <td>450.0</td>\n",
       "      <td>445.0</td>\n",
       "      <td>0</td>\n",
       "    </tr>\n",
       "    <tr>\n",
       "      <th>4</th>\n",
       "      <td>443.0</td>\n",
       "      <td>434.0</td>\n",
       "      <td>417.0</td>\n",
       "      <td>398.0</td>\n",
       "      <td>379.0</td>\n",
       "      <td>360.0</td>\n",
       "      <td>360.0</td>\n",
       "      <td>339.0</td>\n",
       "      <td>330.0</td>\n",
       "      <td>325.0</td>\n",
       "      <td>...</td>\n",
       "      <td>435.0</td>\n",
       "      <td>407.0</td>\n",
       "      <td>407.0</td>\n",
       "      <td>387.0</td>\n",
       "      <td>387.0</td>\n",
       "      <td>372.0</td>\n",
       "      <td>370.0</td>\n",
       "      <td>366.0</td>\n",
       "      <td>360.0</td>\n",
       "      <td>0</td>\n",
       "    </tr>\n",
       "  </tbody>\n",
       "</table>\n",
       "<p>5 rows × 97 columns</p>\n",
       "</div>"
      ],
      "text/plain": [
       "       0      1      2      3      4      5      6      7      8      9  ...  \\\n",
       "0  338.0  334.0  331.0  328.0  324.0  330.0  318.0  314.0  311.0  308.0  ...   \n",
       "1  501.0  492.0  492.0  490.0  471.0  462.0  442.0  428.0  419.0  413.0  ...   \n",
       "2  489.0  487.0  463.0  447.0  447.0  421.0  406.0  398.0  395.0  388.0  ...   \n",
       "3  468.0  456.0  456.0  438.0  426.0  409.0  405.0  392.0  383.0  383.0  ...   \n",
       "4  443.0  434.0  417.0  398.0  379.0  360.0  360.0  339.0  330.0  325.0  ...   \n",
       "\n",
       "      87     88     89     90     91     92     93     94     95  label  \n",
       "0  525.0  534.0  522.0  508.0  507.0  529.0  528.0  531.0  506.0      0  \n",
       "1  537.0  532.0  522.0  522.0  522.0  492.0  492.0  490.0  491.0      0  \n",
       "2  525.0  512.0  508.0  491.0  494.0  494.0  484.0  482.0  482.0      0  \n",
       "3  501.0  494.0  494.0  484.0  466.0  466.0  450.0  450.0  445.0      0  \n",
       "4  435.0  407.0  407.0  387.0  387.0  372.0  370.0  366.0  360.0      0  \n",
       "\n",
       "[5 rows x 97 columns]"
      ]
     },
     "execution_count": 117,
     "metadata": {},
     "output_type": "execute_result"
    }
   ],
   "source": [
    "# Download the dataset\n",
    "dataframe = pd.read_csv('all_data.csv')\n",
    "raw_data = dataframe.values\n",
    "dataframe.head()"
   ]
  },
  {
   "cell_type": "code",
   "execution_count": 118,
   "metadata": {},
   "outputs": [
    {
     "data": {
      "text/plain": [
       "(738, 97)"
      ]
     },
     "execution_count": 118,
     "metadata": {},
     "output_type": "execute_result"
    }
   ],
   "source": [
    "dataframe.shape"
   ]
  },
  {
   "cell_type": "code",
   "execution_count": 119,
   "metadata": {},
   "outputs": [
    {
     "data": {
      "text/html": [
       "<div>\n",
       "<style scoped>\n",
       "    .dataframe tbody tr th:only-of-type {\n",
       "        vertical-align: middle;\n",
       "    }\n",
       "\n",
       "    .dataframe tbody tr th {\n",
       "        vertical-align: top;\n",
       "    }\n",
       "\n",
       "    .dataframe thead th {\n",
       "        text-align: right;\n",
       "    }\n",
       "</style>\n",
       "<table border=\"1\" class=\"dataframe\">\n",
       "  <thead>\n",
       "    <tr style=\"text-align: right;\">\n",
       "      <th></th>\n",
       "      <th>0</th>\n",
       "      <th>1</th>\n",
       "      <th>2</th>\n",
       "      <th>3</th>\n",
       "      <th>4</th>\n",
       "      <th>5</th>\n",
       "      <th>6</th>\n",
       "      <th>7</th>\n",
       "      <th>8</th>\n",
       "      <th>9</th>\n",
       "      <th>...</th>\n",
       "      <th>87</th>\n",
       "      <th>88</th>\n",
       "      <th>89</th>\n",
       "      <th>90</th>\n",
       "      <th>91</th>\n",
       "      <th>92</th>\n",
       "      <th>93</th>\n",
       "      <th>94</th>\n",
       "      <th>95</th>\n",
       "      <th>label</th>\n",
       "    </tr>\n",
       "  </thead>\n",
       "  <tbody>\n",
       "    <tr>\n",
       "      <th>0</th>\n",
       "      <td>338.0</td>\n",
       "      <td>334.0</td>\n",
       "      <td>331.0</td>\n",
       "      <td>328.0</td>\n",
       "      <td>324.0</td>\n",
       "      <td>330.0</td>\n",
       "      <td>318.0</td>\n",
       "      <td>314.0</td>\n",
       "      <td>311.0</td>\n",
       "      <td>308.0</td>\n",
       "      <td>...</td>\n",
       "      <td>525.0</td>\n",
       "      <td>534.0</td>\n",
       "      <td>522.0</td>\n",
       "      <td>508.0</td>\n",
       "      <td>507.0</td>\n",
       "      <td>529.0</td>\n",
       "      <td>528.0</td>\n",
       "      <td>531.0</td>\n",
       "      <td>506.0</td>\n",
       "      <td>0</td>\n",
       "    </tr>\n",
       "    <tr>\n",
       "      <th>1</th>\n",
       "      <td>501.0</td>\n",
       "      <td>492.0</td>\n",
       "      <td>492.0</td>\n",
       "      <td>490.0</td>\n",
       "      <td>471.0</td>\n",
       "      <td>462.0</td>\n",
       "      <td>442.0</td>\n",
       "      <td>428.0</td>\n",
       "      <td>419.0</td>\n",
       "      <td>413.0</td>\n",
       "      <td>...</td>\n",
       "      <td>537.0</td>\n",
       "      <td>532.0</td>\n",
       "      <td>522.0</td>\n",
       "      <td>522.0</td>\n",
       "      <td>522.0</td>\n",
       "      <td>492.0</td>\n",
       "      <td>492.0</td>\n",
       "      <td>490.0</td>\n",
       "      <td>491.0</td>\n",
       "      <td>0</td>\n",
       "    </tr>\n",
       "  </tbody>\n",
       "</table>\n",
       "<p>2 rows × 97 columns</p>\n",
       "</div>"
      ],
      "text/plain": [
       "       0      1      2      3      4      5      6      7      8      9  ...  \\\n",
       "0  338.0  334.0  331.0  328.0  324.0  330.0  318.0  314.0  311.0  308.0  ...   \n",
       "1  501.0  492.0  492.0  490.0  471.0  462.0  442.0  428.0  419.0  413.0  ...   \n",
       "\n",
       "      87     88     89     90     91     92     93     94     95  label  \n",
       "0  525.0  534.0  522.0  508.0  507.0  529.0  528.0  531.0  506.0      0  \n",
       "1  537.0  532.0  522.0  522.0  522.0  492.0  492.0  490.0  491.0      0  \n",
       "\n",
       "[2 rows x 97 columns]"
      ]
     },
     "execution_count": 119,
     "metadata": {},
     "output_type": "execute_result"
    }
   ],
   "source": [
    "dataframe.head(2)"
   ]
  },
  {
   "cell_type": "code",
   "execution_count": 120,
   "metadata": {},
   "outputs": [],
   "source": [
    "dataframe_1 = dataframe.iloc[4:5, :-1]"
   ]
  },
  {
   "cell_type": "code",
   "execution_count": 121,
   "metadata": {},
   "outputs": [
    {
     "data": {
      "text/html": [
       "<div>\n",
       "<style scoped>\n",
       "    .dataframe tbody tr th:only-of-type {\n",
       "        vertical-align: middle;\n",
       "    }\n",
       "\n",
       "    .dataframe tbody tr th {\n",
       "        vertical-align: top;\n",
       "    }\n",
       "\n",
       "    .dataframe thead th {\n",
       "        text-align: right;\n",
       "    }\n",
       "</style>\n",
       "<table border=\"1\" class=\"dataframe\">\n",
       "  <thead>\n",
       "    <tr style=\"text-align: right;\">\n",
       "      <th></th>\n",
       "      <th>0</th>\n",
       "      <th>1</th>\n",
       "      <th>2</th>\n",
       "      <th>3</th>\n",
       "      <th>4</th>\n",
       "      <th>5</th>\n",
       "      <th>6</th>\n",
       "      <th>7</th>\n",
       "      <th>8</th>\n",
       "      <th>9</th>\n",
       "      <th>...</th>\n",
       "      <th>86</th>\n",
       "      <th>87</th>\n",
       "      <th>88</th>\n",
       "      <th>89</th>\n",
       "      <th>90</th>\n",
       "      <th>91</th>\n",
       "      <th>92</th>\n",
       "      <th>93</th>\n",
       "      <th>94</th>\n",
       "      <th>95</th>\n",
       "    </tr>\n",
       "  </thead>\n",
       "  <tbody>\n",
       "    <tr>\n",
       "      <th>4</th>\n",
       "      <td>443.0</td>\n",
       "      <td>434.0</td>\n",
       "      <td>417.0</td>\n",
       "      <td>398.0</td>\n",
       "      <td>379.0</td>\n",
       "      <td>360.0</td>\n",
       "      <td>360.0</td>\n",
       "      <td>339.0</td>\n",
       "      <td>330.0</td>\n",
       "      <td>325.0</td>\n",
       "      <td>...</td>\n",
       "      <td>435.0</td>\n",
       "      <td>435.0</td>\n",
       "      <td>407.0</td>\n",
       "      <td>407.0</td>\n",
       "      <td>387.0</td>\n",
       "      <td>387.0</td>\n",
       "      <td>372.0</td>\n",
       "      <td>370.0</td>\n",
       "      <td>366.0</td>\n",
       "      <td>360.0</td>\n",
       "    </tr>\n",
       "  </tbody>\n",
       "</table>\n",
       "<p>1 rows × 96 columns</p>\n",
       "</div>"
      ],
      "text/plain": [
       "       0      1      2      3      4      5      6      7      8      9  ...  \\\n",
       "4  443.0  434.0  417.0  398.0  379.0  360.0  360.0  339.0  330.0  325.0  ...   \n",
       "\n",
       "      86     87     88     89     90     91     92     93     94     95  \n",
       "4  435.0  435.0  407.0  407.0  387.0  387.0  372.0  370.0  366.0  360.0  \n",
       "\n",
       "[1 rows x 96 columns]"
      ]
     },
     "execution_count": 121,
     "metadata": {},
     "output_type": "execute_result"
    }
   ],
   "source": [
    "dataframe_1"
   ]
  },
  {
   "cell_type": "code",
   "execution_count": 122,
   "metadata": {},
   "outputs": [],
   "source": [
    "series = dataframe_1.values\n",
    "series = series.tolist()\n"
   ]
  },
  {
   "cell_type": "code",
   "execution_count": 123,
   "metadata": {},
   "outputs": [],
   "source": [
    "flat_list = [item for sublist in series for item in sublist]"
   ]
  },
  {
   "cell_type": "code",
   "execution_count": 124,
   "metadata": {},
   "outputs": [
    {
     "data": {
      "image/png": "[encoded data removed]",
      "text/plain": [
       "<Figure size 1080x288 with 1 Axes>"
      ]
     },
     "metadata": {
      "needs_background": "light"
     },
     "output_type": "display_data"
    }
   ],
   "source": [
    "plt.figure(figsize = (15, 4))\n",
    "plt.plot(flat_list)\n",
    "plt.show()"
   ]
  },
  {
   "cell_type": "code",
   "execution_count": null,
   "metadata": {},
   "outputs": [],
   "source": []
  },
  {
   "cell_type": "code",
   "execution_count": 125,
   "metadata": {
    "scrolled": true
   },
   "outputs": [],
   "source": [
    "# The last element contains the labels\n",
    "labels = raw_data[:, -1]\n",
    "\n",
    "\n",
    "data = raw_data[:, 0:-1]\n",
    "\n",
    "train_data, test_data, train_labels, test_labels = train_test_split(\n",
    "    data, labels, test_size=0.2, random_state=21\n",
    ")\n",
    "\n",
    "#train_data, test_data, train_labels, test_labels = data[34:], data[:34], labels[34:], labels[:34]"
   ]
  },
  {
   "cell_type": "code",
   "execution_count": 126,
   "metadata": {},
   "outputs": [],
   "source": [
    "min_val = tf.reduce_min(train_data)\n",
    "max_val = tf.reduce_max(train_data)\n",
    "\n",
    "train_data = (train_data - min_val) / (max_val - min_val)\n",
    "test_data = (test_data - min_val) / (max_val - min_val)\n",
    "\n",
    "train_data = tf.cast(train_data, tf.float32)\n",
    "test_data = tf.cast(test_data, tf.float32)"
   ]
  },
  {
   "cell_type": "code",
   "execution_count": 127,
   "metadata": {
    "scrolled": true
   },
   "outputs": [
    {
     "name": "stdout",
     "output_type": "stream",
     "text": [
      "tf.Tensor(\n",
      "[[0.1257485  0.11377245 0.10329341 ... 0.13922156 0.14071856 0.14071856]\n",
      " [0.27994013 0.2709581  0.25       ... 0.20658682 0.19760479 0.20508982]\n",
      " [0.36826348 0.37125748 0.36077845 ... 0.35179642 0.35329342 0.35628742]\n",
      " ...\n",
      " [0.16317365 0.16317365 0.16317365 ... 0.1721557  0.17814371 0.1721557 ]\n",
      " [0.16916168 0.16916168 0.16916168 ... 0.17814371 0.1721557  0.1751497 ]\n",
      " [0.30688623 0.30688623 0.30988023 ... 0.31437126 0.31586826 0.3203593 ]], shape=(144, 96), dtype=float32)\n"
     ]
    }
   ],
   "source": [
    "train_labels = train_labels.astype(bool)\n",
    "test_labels = test_labels.astype(bool)\n",
    "\n",
    "normal_train_data = train_data[train_labels]\n",
    "normal_test_data = test_data[test_labels]\n",
    "print(normal_test_data)\n",
    "anomalous_train_data = train_data[~train_labels]\n",
    "anomalous_test_data = test_data[~test_labels]"
   ]
  },
  {
   "cell_type": "code",
   "execution_count": 128,
   "metadata": {},
   "outputs": [
    {
     "data": {
      "text/plain": [
       "TensorShape([4, 96])"
      ]
     },
     "execution_count": 128,
     "metadata": {},
     "output_type": "execute_result"
    }
   ],
   "source": [
    "anomalous_test_data.shape"
   ]
  },
  {
   "cell_type": "code",
   "execution_count": 129,
   "metadata": {},
   "outputs": [
    {
     "data": {
      "text/plain": [
       "TensorShape([144, 96])"
      ]
     },
     "execution_count": 129,
     "metadata": {},
     "output_type": "execute_result"
    }
   ],
   "source": [
    "normal_test_data.shape"
   ]
  },
  {
   "cell_type": "markdown",
   "metadata": {},
   "source": [
    "### Build the model"
   ]
  },
  {
   "cell_type": "code",
   "execution_count": 147,
   "metadata": {},
   "outputs": [],
   "source": [
    "class Detector(Model):\n",
    "    def __init__(self):\n",
    "        super(Detector, self).__init__()\n",
    "        self.encoder = tf.keras.Sequential([\n",
    "            layers.Dense(128, activation=\"relu\"),\n",
    "            layers.Dense(64, activation=\"relu\"),\n",
    "            layers.Dense(32, activation=\"relu\"),\n",
    "            layers.Dense(16, activation=\"relu\"),\n",
    "            layers.Dense(8, activation=\"relu\")\n",
    "        ])\n",
    "\n",
    "        self.decoder = tf.keras.Sequential([\n",
    "            layers.Dense(8, activation=\"relu\"),\n",
    "            layers.Dense(16, activation=\"relu\"),\n",
    "            layers.Dense(32, activation=\"relu\"),\n",
    "            layers.Dense(96, activation=\"sigmoid\")\n",
    "        ])\n",
    "\n",
    "    def call(self, x):\n",
    "        encoded = self.encoder(x)\n",
    "        decoded = self.decoder(encoded)\n",
    "        return decoded\n",
    "\n",
    "autoencoder = Detector()"
   ]
  },
  {
   "cell_type": "code",
   "execution_count": 143,
   "metadata": {},
   "outputs": [],
   "source": [
    "autoencoder.compile(optimizer='adam', loss='mae')"
   ]
  },
  {
   "cell_type": "code",
   "execution_count": 144,
   "metadata": {
    "scrolled": true
   },
   "outputs": [
    {
     "name": "stdout",
     "output_type": "stream",
     "text": [
      "Epoch 1/200\n",
      "18/18 [==============================] - 1s 10ms/step - loss: 0.2747 - val_loss: 0.2653\n",
      "Epoch 2/200\n",
      "18/18 [==============================] - 0s 3ms/step - loss: 0.2367 - val_loss: 0.1882\n",
      "Epoch 3/200\n",
      "18/18 [==============================] - 0s 3ms/step - loss: 0.1577 - val_loss: 0.1412\n",
      "Epoch 4/200\n",
      "18/18 [==============================] - 0s 3ms/step - loss: 0.1228 - val_loss: 0.1245\n",
      "Epoch 5/200\n",
      "18/18 [==============================] - 0s 3ms/step - loss: 0.1101 - val_loss: 0.1151\n",
      "Epoch 6/200\n",
      "18/18 [==============================] - 0s 3ms/step - loss: 0.0998 - val_loss: 0.1024\n",
      "Epoch 7/200\n",
      "18/18 [==============================] - 0s 3ms/step - loss: 0.0835 - val_loss: 0.0800\n",
      "Epoch 8/200\n",
      "18/18 [==============================] - 0s 3ms/step - loss: 0.0641 - val_loss: 0.0627\n",
      "Epoch 9/200\n",
      "18/18 [==============================] - 0s 3ms/step - loss: 0.0520 - val_loss: 0.0476\n",
      "Epoch 10/200\n",
      "18/18 [==============================] - 0s 3ms/step - loss: 0.0386 - val_loss: 0.0392\n",
      "Epoch 11/200\n",
      "18/18 [==============================] - 0s 3ms/step - loss: 0.0308 - val_loss: 0.0333\n",
      "Epoch 12/200\n",
      "18/18 [==============================] - 0s 3ms/step - loss: 0.0288 - val_loss: 0.0323\n",
      "Epoch 13/200\n",
      "18/18 [==============================] - 0s 3ms/step - loss: 0.0284 - val_loss: 0.0326\n",
      "Epoch 14/200\n",
      "18/18 [==============================] - 0s 3ms/step - loss: 0.0283 - val_loss: 0.0319\n",
      "Epoch 15/200\n",
      "18/18 [==============================] - 0s 3ms/step - loss: 0.0280 - val_loss: 0.0318\n",
      "Epoch 16/200\n",
      "18/18 [==============================] - 0s 3ms/step - loss: 0.0280 - val_loss: 0.0318\n",
      "Epoch 17/200\n",
      "18/18 [==============================] - 0s 3ms/step - loss: 0.0280 - val_loss: 0.0319\n",
      "Epoch 18/200\n",
      "18/18 [==============================] - 0s 3ms/step - loss: 0.0281 - val_loss: 0.0322\n",
      "Epoch 19/200\n",
      "18/18 [==============================] - 0s 3ms/step - loss: 0.0279 - val_loss: 0.0318\n",
      "Epoch 20/200\n",
      "18/18 [==============================] - 0s 3ms/step - loss: 0.0278 - val_loss: 0.0317\n",
      "Epoch 21/200\n",
      "18/18 [==============================] - 0s 3ms/step - loss: 0.0278 - val_loss: 0.0316\n",
      "Epoch 22/200\n",
      "18/18 [==============================] - 0s 3ms/step - loss: 0.0278 - val_loss: 0.0316\n",
      "Epoch 23/200\n",
      "18/18 [==============================] - 0s 3ms/step - loss: 0.0278 - val_loss: 0.0318\n",
      "Epoch 24/200\n",
      "18/18 [==============================] - 0s 3ms/step - loss: 0.0280 - val_loss: 0.0325\n",
      "Epoch 25/200\n",
      "18/18 [==============================] - 0s 3ms/step - loss: 0.0279 - val_loss: 0.0317\n",
      "Epoch 26/200\n",
      "18/18 [==============================] - 0s 3ms/step - loss: 0.0277 - val_loss: 0.0316\n",
      "Epoch 27/200\n",
      "18/18 [==============================] - 0s 3ms/step - loss: 0.0277 - val_loss: 0.0316\n",
      "Epoch 28/200\n",
      "18/18 [==============================] - 0s 3ms/step - loss: 0.0277 - val_loss: 0.0318\n",
      "Epoch 29/200\n",
      "18/18 [==============================] - 0s 3ms/step - loss: 0.0277 - val_loss: 0.0316\n",
      "Epoch 30/200\n",
      "18/18 [==============================] - 0s 3ms/step - loss: 0.0276 - val_loss: 0.0315\n",
      "Epoch 31/200\n",
      "18/18 [==============================] - 0s 3ms/step - loss: 0.0276 - val_loss: 0.0315\n",
      "Epoch 32/200\n",
      "18/18 [==============================] - 0s 3ms/step - loss: 0.0276 - val_loss: 0.0315\n",
      "Epoch 33/200\n",
      "18/18 [==============================] - 0s 3ms/step - loss: 0.0277 - val_loss: 0.0316\n",
      "Epoch 34/200\n",
      "18/18 [==============================] - 0s 3ms/step - loss: 0.0277 - val_loss: 0.0318\n",
      "Epoch 35/200\n",
      "18/18 [==============================] - 0s 3ms/step - loss: 0.0276 - val_loss: 0.0314\n",
      "Epoch 36/200\n",
      "18/18 [==============================] - 0s 3ms/step - loss: 0.0274 - val_loss: 0.0313\n",
      "Epoch 37/200\n",
      "18/18 [==============================] - 0s 3ms/step - loss: 0.0273 - val_loss: 0.0312\n",
      "Epoch 38/200\n",
      "18/18 [==============================] - 0s 3ms/step - loss: 0.0271 - val_loss: 0.0308\n",
      "Epoch 39/200\n",
      "18/18 [==============================] - 0s 3ms/step - loss: 0.0266 - val_loss: 0.0300\n",
      "Epoch 40/200\n",
      "18/18 [==============================] - 0s 3ms/step - loss: 0.0256 - val_loss: 0.0284\n",
      "Epoch 41/200\n",
      "18/18 [==============================] - 0s 3ms/step - loss: 0.0237 - val_loss: 0.0255\n",
      "Epoch 42/200\n",
      "18/18 [==============================] - 0s 3ms/step - loss: 0.0206 - val_loss: 0.0223\n",
      "Epoch 43/200\n",
      "18/18 [==============================] - 0s 3ms/step - loss: 0.0182 - val_loss: 0.0210\n",
      "Epoch 44/200\n",
      "18/18 [==============================] - 0s 3ms/step - loss: 0.0174 - val_loss: 0.0200\n",
      "Epoch 45/200\n",
      "18/18 [==============================] - 0s 3ms/step - loss: 0.0171 - val_loss: 0.0201\n",
      "Epoch 46/200\n",
      "18/18 [==============================] - 0s 3ms/step - loss: 0.0169 - val_loss: 0.0197\n",
      "Epoch 47/200\n",
      "18/18 [==============================] - 0s 3ms/step - loss: 0.0169 - val_loss: 0.0198\n",
      "Epoch 48/200\n",
      "18/18 [==============================] - 0s 4ms/step - loss: 0.0168 - val_loss: 0.0196\n",
      "Epoch 49/200\n",
      "18/18 [==============================] - 0s 3ms/step - loss: 0.0167 - val_loss: 0.0196\n",
      "Epoch 50/200\n",
      "18/18 [==============================] - 0s 3ms/step - loss: 0.0170 - val_loss: 0.0197\n",
      "Epoch 51/200\n",
      "18/18 [==============================] - 0s 3ms/step - loss: 0.0168 - val_loss: 0.0197\n",
      "Epoch 52/200\n",
      "18/18 [==============================] - 0s 3ms/step - loss: 0.0167 - val_loss: 0.0199\n",
      "Epoch 53/200\n",
      "18/18 [==============================] - 0s 3ms/step - loss: 0.0167 - val_loss: 0.0195\n",
      "Epoch 54/200\n",
      "18/18 [==============================] - 0s 3ms/step - loss: 0.0166 - val_loss: 0.0195\n",
      "Epoch 55/200\n",
      "18/18 [==============================] - 0s 3ms/step - loss: 0.0166 - val_loss: 0.0194\n",
      "Epoch 56/200\n",
      "18/18 [==============================] - 0s 3ms/step - loss: 0.0164 - val_loss: 0.0195\n",
      "Epoch 57/200\n",
      "18/18 [==============================] - 0s 3ms/step - loss: 0.0165 - val_loss: 0.0195\n",
      "Epoch 58/200\n",
      "18/18 [==============================] - 0s 3ms/step - loss: 0.0164 - val_loss: 0.0196\n",
      "Epoch 59/200\n",
      "18/18 [==============================] - 0s 3ms/step - loss: 0.0165 - val_loss: 0.0194\n",
      "Epoch 60/200\n",
      "18/18 [==============================] - 0s 3ms/step - loss: 0.0165 - val_loss: 0.0195\n",
      "Epoch 61/200\n",
      "18/18 [==============================] - 0s 3ms/step - loss: 0.0164 - val_loss: 0.0196\n",
      "Epoch 62/200\n",
      "18/18 [==============================] - 0s 3ms/step - loss: 0.0167 - val_loss: 0.0196\n",
      "Epoch 63/200\n",
      "18/18 [==============================] - 0s 3ms/step - loss: 0.0165 - val_loss: 0.0197\n",
      "Epoch 64/200\n",
      "18/18 [==============================] - 0s 3ms/step - loss: 0.0164 - val_loss: 0.0194\n",
      "Epoch 65/200\n",
      "18/18 [==============================] - 0s 3ms/step - loss: 0.0164 - val_loss: 0.0196\n",
      "Epoch 66/200\n",
      "18/18 [==============================] - 0s 3ms/step - loss: 0.0164 - val_loss: 0.0194\n",
      "Epoch 67/200\n",
      "18/18 [==============================] - 0s 3ms/step - loss: 0.0164 - val_loss: 0.0194\n",
      "Epoch 68/200\n",
      "18/18 [==============================] - 0s 3ms/step - loss: 0.0164 - val_loss: 0.0195\n",
      "Epoch 69/200\n",
      "18/18 [==============================] - 0s 3ms/step - loss: 0.0165 - val_loss: 0.0194\n",
      "Epoch 70/200\n",
      "18/18 [==============================] - 0s 3ms/step - loss: 0.0164 - val_loss: 0.0198\n",
      "Epoch 71/200\n",
      "18/18 [==============================] - 0s 3ms/step - loss: 0.0164 - val_loss: 0.0195\n",
      "Epoch 72/200\n",
      "18/18 [==============================] - 0s 3ms/step - loss: 0.0163 - val_loss: 0.0195\n",
      "Epoch 73/200\n",
      "18/18 [==============================] - 0s 3ms/step - loss: 0.0163 - val_loss: 0.0197\n",
      "Epoch 74/200\n",
      "18/18 [==============================] - 0s 3ms/step - loss: 0.0165 - val_loss: 0.0201\n",
      "Epoch 75/200\n",
      "18/18 [==============================] - 0s 3ms/step - loss: 0.0167 - val_loss: 0.0193\n",
      "Epoch 76/200\n",
      "18/18 [==============================] - 0s 3ms/step - loss: 0.0162 - val_loss: 0.0195\n",
      "Epoch 77/200\n",
      "18/18 [==============================] - 0s 3ms/step - loss: 0.0164 - val_loss: 0.0194\n",
      "Epoch 78/200\n",
      "18/18 [==============================] - 0s 3ms/step - loss: 0.0163 - val_loss: 0.0195\n",
      "Epoch 79/200\n",
      "18/18 [==============================] - 0s 3ms/step - loss: 0.0164 - val_loss: 0.0193\n",
      "Epoch 80/200\n",
      "18/18 [==============================] - 0s 3ms/step - loss: 0.0163 - val_loss: 0.0195\n",
      "Epoch 81/200\n",
      "18/18 [==============================] - 0s 3ms/step - loss: 0.0164 - val_loss: 0.0195\n",
      "Epoch 82/200\n",
      "18/18 [==============================] - 0s 3ms/step - loss: 0.0164 - val_loss: 0.0197\n",
      "Epoch 83/200\n"
     ]
    },
    {
     "name": "stdout",
     "output_type": "stream",
     "text": [
      "18/18 [==============================] - 0s 3ms/step - loss: 0.0163 - val_loss: 0.0195\n",
      "Epoch 84/200\n",
      "18/18 [==============================] - 0s 3ms/step - loss: 0.0163 - val_loss: 0.0195\n",
      "Epoch 85/200\n",
      "18/18 [==============================] - 0s 3ms/step - loss: 0.0163 - val_loss: 0.0195\n",
      "Epoch 86/200\n",
      "18/18 [==============================] - 0s 3ms/step - loss: 0.0163 - val_loss: 0.0195\n",
      "Epoch 87/200\n",
      "18/18 [==============================] - 0s 3ms/step - loss: 0.0164 - val_loss: 0.0194\n",
      "Epoch 88/200\n",
      "18/18 [==============================] - 0s 3ms/step - loss: 0.0162 - val_loss: 0.0193\n",
      "Epoch 89/200\n",
      "18/18 [==============================] - 0s 3ms/step - loss: 0.0163 - val_loss: 0.0195\n",
      "Epoch 90/200\n",
      "18/18 [==============================] - 0s 3ms/step - loss: 0.0162 - val_loss: 0.0194\n",
      "Epoch 91/200\n",
      "18/18 [==============================] - 0s 3ms/step - loss: 0.0162 - val_loss: 0.0195\n",
      "Epoch 92/200\n",
      "18/18 [==============================] - 0s 3ms/step - loss: 0.0162 - val_loss: 0.0193\n",
      "Epoch 93/200\n",
      "18/18 [==============================] - 0s 3ms/step - loss: 0.0162 - val_loss: 0.0196\n",
      "Epoch 94/200\n",
      "18/18 [==============================] - 0s 3ms/step - loss: 0.0163 - val_loss: 0.0194\n",
      "Epoch 95/200\n",
      "18/18 [==============================] - 0s 3ms/step - loss: 0.0162 - val_loss: 0.0195\n",
      "Epoch 96/200\n",
      "18/18 [==============================] - 0s 3ms/step - loss: 0.0163 - val_loss: 0.0197\n",
      "Epoch 97/200\n",
      "18/18 [==============================] - 0s 3ms/step - loss: 0.0165 - val_loss: 0.0194\n",
      "Epoch 98/200\n",
      "18/18 [==============================] - 0s 3ms/step - loss: 0.0162 - val_loss: 0.0193\n",
      "Epoch 99/200\n",
      "18/18 [==============================] - 0s 3ms/step - loss: 0.0162 - val_loss: 0.0195\n",
      "Epoch 100/200\n",
      "18/18 [==============================] - 0s 3ms/step - loss: 0.0163 - val_loss: 0.0197\n",
      "Epoch 101/200\n",
      "18/18 [==============================] - 0s 3ms/step - loss: 0.0162 - val_loss: 0.0193\n",
      "Epoch 102/200\n",
      "18/18 [==============================] - 0s 3ms/step - loss: 0.0162 - val_loss: 0.0197\n",
      "Epoch 103/200\n",
      "18/18 [==============================] - 0s 3ms/step - loss: 0.0163 - val_loss: 0.0195\n",
      "Epoch 104/200\n",
      "18/18 [==============================] - 0s 3ms/step - loss: 0.0162 - val_loss: 0.0194\n",
      "Epoch 105/200\n",
      "18/18 [==============================] - 0s 3ms/step - loss: 0.0162 - val_loss: 0.0193\n",
      "Epoch 106/200\n",
      "18/18 [==============================] - 0s 3ms/step - loss: 0.0162 - val_loss: 0.0193\n",
      "Epoch 107/200\n",
      "18/18 [==============================] - 0s 3ms/step - loss: 0.0161 - val_loss: 0.0192\n",
      "Epoch 108/200\n",
      "18/18 [==============================] - 0s 3ms/step - loss: 0.0161 - val_loss: 0.0193\n",
      "Epoch 109/200\n",
      "18/18 [==============================] - 0s 3ms/step - loss: 0.0161 - val_loss: 0.0193\n",
      "Epoch 110/200\n",
      "18/18 [==============================] - 0s 3ms/step - loss: 0.0162 - val_loss: 0.0193\n",
      "Epoch 111/200\n",
      "18/18 [==============================] - 0s 3ms/step - loss: 0.0161 - val_loss: 0.0192\n",
      "Epoch 112/200\n",
      "18/18 [==============================] - 0s 3ms/step - loss: 0.0162 - val_loss: 0.0194\n",
      "Epoch 113/200\n",
      "18/18 [==============================] - 0s 3ms/step - loss: 0.0162 - val_loss: 0.0196\n",
      "Epoch 114/200\n",
      "18/18 [==============================] - 0s 3ms/step - loss: 0.0162 - val_loss: 0.0196\n",
      "Epoch 115/200\n",
      "18/18 [==============================] - 0s 3ms/step - loss: 0.0162 - val_loss: 0.0193\n",
      "Epoch 116/200\n",
      "18/18 [==============================] - 0s 3ms/step - loss: 0.0163 - val_loss: 0.0194\n",
      "Epoch 117/200\n",
      "18/18 [==============================] - 0s 3ms/step - loss: 0.0161 - val_loss: 0.0194\n",
      "Epoch 118/200\n",
      "18/18 [==============================] - 0s 3ms/step - loss: 0.0162 - val_loss: 0.0193\n",
      "Epoch 119/200\n",
      "18/18 [==============================] - 0s 3ms/step - loss: 0.0162 - val_loss: 0.0192\n",
      "Epoch 120/200\n",
      "18/18 [==============================] - 0s 3ms/step - loss: 0.0161 - val_loss: 0.0194\n",
      "Epoch 121/200\n",
      "18/18 [==============================] - 0s 3ms/step - loss: 0.0161 - val_loss: 0.0192\n",
      "Epoch 122/200\n",
      "18/18 [==============================] - 0s 3ms/step - loss: 0.0161 - val_loss: 0.0194\n",
      "Epoch 123/200\n",
      "18/18 [==============================] - 0s 3ms/step - loss: 0.0161 - val_loss: 0.0193\n",
      "Epoch 124/200\n",
      "18/18 [==============================] - 0s 3ms/step - loss: 0.0161 - val_loss: 0.0193\n",
      "Epoch 125/200\n",
      "18/18 [==============================] - 0s 3ms/step - loss: 0.0161 - val_loss: 0.0193\n",
      "Epoch 126/200\n",
      "18/18 [==============================] - 0s 3ms/step - loss: 0.0164 - val_loss: 0.0192\n",
      "Epoch 127/200\n",
      "18/18 [==============================] - 0s 3ms/step - loss: 0.0164 - val_loss: 0.0194\n",
      "Epoch 128/200\n",
      "18/18 [==============================] - 0s 3ms/step - loss: 0.0163 - val_loss: 0.0193\n",
      "Epoch 129/200\n",
      "18/18 [==============================] - 0s 3ms/step - loss: 0.0161 - val_loss: 0.0192\n",
      "Epoch 130/200\n",
      "18/18 [==============================] - 0s 3ms/step - loss: 0.0162 - val_loss: 0.0193\n",
      "Epoch 131/200\n",
      "18/18 [==============================] - 0s 3ms/step - loss: 0.0161 - val_loss: 0.0193\n",
      "Epoch 132/200\n",
      "18/18 [==============================] - 0s 3ms/step - loss: 0.0161 - val_loss: 0.0193\n",
      "Epoch 133/200\n",
      "18/18 [==============================] - 0s 3ms/step - loss: 0.0161 - val_loss: 0.0194\n",
      "Epoch 134/200\n",
      "18/18 [==============================] - 0s 3ms/step - loss: 0.0163 - val_loss: 0.0195\n",
      "Epoch 135/200\n",
      "18/18 [==============================] - 0s 3ms/step - loss: 0.0163 - val_loss: 0.0197\n",
      "Epoch 136/200\n",
      "18/18 [==============================] - 0s 3ms/step - loss: 0.0162 - val_loss: 0.0193\n",
      "Epoch 137/200\n",
      "18/18 [==============================] - 0s 3ms/step - loss: 0.0161 - val_loss: 0.0192\n",
      "Epoch 138/200\n",
      "18/18 [==============================] - 0s 3ms/step - loss: 0.0161 - val_loss: 0.0192\n",
      "Epoch 139/200\n",
      "18/18 [==============================] - 0s 3ms/step - loss: 0.0161 - val_loss: 0.0193\n",
      "Epoch 140/200\n",
      "18/18 [==============================] - 0s 3ms/step - loss: 0.0161 - val_loss: 0.0193\n",
      "Epoch 141/200\n",
      "18/18 [==============================] - 0s 3ms/step - loss: 0.0161 - val_loss: 0.0193\n",
      "Epoch 142/200\n",
      "18/18 [==============================] - 0s 3ms/step - loss: 0.0161 - val_loss: 0.0193\n",
      "Epoch 143/200\n",
      "18/18 [==============================] - 0s 3ms/step - loss: 0.0161 - val_loss: 0.0194\n",
      "Epoch 144/200\n",
      "18/18 [==============================] - 0s 3ms/step - loss: 0.0161 - val_loss: 0.0192\n",
      "Epoch 145/200\n",
      "18/18 [==============================] - 0s 3ms/step - loss: 0.0161 - val_loss: 0.0196\n",
      "Epoch 146/200\n",
      "18/18 [==============================] - 0s 3ms/step - loss: 0.0162 - val_loss: 0.0191\n",
      "Epoch 147/200\n",
      "18/18 [==============================] - 0s 3ms/step - loss: 0.0161 - val_loss: 0.0192\n",
      "Epoch 148/200\n",
      "18/18 [==============================] - 0s 3ms/step - loss: 0.0160 - val_loss: 0.0192\n",
      "Epoch 149/200\n",
      "18/18 [==============================] - 0s 3ms/step - loss: 0.0161 - val_loss: 0.0193\n",
      "Epoch 150/200\n",
      "18/18 [==============================] - 0s 3ms/step - loss: 0.0162 - val_loss: 0.0192\n",
      "Epoch 151/200\n",
      "18/18 [==============================] - 0s 3ms/step - loss: 0.0162 - val_loss: 0.0192\n",
      "Epoch 152/200\n",
      "18/18 [==============================] - 0s 3ms/step - loss: 0.0161 - val_loss: 0.0193\n",
      "Epoch 153/200\n",
      "18/18 [==============================] - 0s 3ms/step - loss: 0.0161 - val_loss: 0.0194\n",
      "Epoch 154/200\n",
      "18/18 [==============================] - 0s 3ms/step - loss: 0.0162 - val_loss: 0.0197\n",
      "Epoch 155/200\n",
      "18/18 [==============================] - 0s 4ms/step - loss: 0.0162 - val_loss: 0.0192\n",
      "Epoch 156/200\n",
      "18/18 [==============================] - 0s 3ms/step - loss: 0.0161 - val_loss: 0.0193\n",
      "Epoch 157/200\n",
      "18/18 [==============================] - 0s 3ms/step - loss: 0.0162 - val_loss: 0.0195\n",
      "Epoch 158/200\n",
      "18/18 [==============================] - 0s 3ms/step - loss: 0.0161 - val_loss: 0.0193\n",
      "Epoch 159/200\n",
      "18/18 [==============================] - 0s 3ms/step - loss: 0.0161 - val_loss: 0.0192\n",
      "Epoch 160/200\n",
      "18/18 [==============================] - 0s 3ms/step - loss: 0.0161 - val_loss: 0.0192\n",
      "Epoch 161/200\n",
      "18/18 [==============================] - 0s 3ms/step - loss: 0.0161 - val_loss: 0.0194\n",
      "Epoch 162/200\n",
      "18/18 [==============================] - 0s 3ms/step - loss: 0.0161 - val_loss: 0.0192\n",
      "Epoch 163/200\n",
      "18/18 [==============================] - 0s 3ms/step - loss: 0.0161 - val_loss: 0.0193\n",
      "Epoch 164/200\n"
     ]
    },
    {
     "name": "stdout",
     "output_type": "stream",
     "text": [
      "18/18 [==============================] - 0s 3ms/step - loss: 0.0161 - val_loss: 0.0193\n",
      "Epoch 165/200\n",
      "18/18 [==============================] - 0s 3ms/step - loss: 0.0162 - val_loss: 0.0192\n",
      "Epoch 166/200\n",
      "18/18 [==============================] - 0s 4ms/step - loss: 0.0162 - val_loss: 0.0192\n",
      "Epoch 167/200\n",
      "18/18 [==============================] - 0s 3ms/step - loss: 0.0161 - val_loss: 0.0194\n",
      "Epoch 168/200\n",
      "18/18 [==============================] - 0s 3ms/step - loss: 0.0162 - val_loss: 0.0194\n",
      "Epoch 169/200\n",
      "18/18 [==============================] - 0s 4ms/step - loss: 0.0161 - val_loss: 0.0193\n",
      "Epoch 170/200\n",
      "18/18 [==============================] - 0s 4ms/step - loss: 0.0161 - val_loss: 0.0192\n",
      "Epoch 171/200\n",
      "18/18 [==============================] - 0s 4ms/step - loss: 0.0161 - val_loss: 0.0193\n",
      "Epoch 172/200\n",
      "18/18 [==============================] - 0s 4ms/step - loss: 0.0160 - val_loss: 0.0192\n",
      "Epoch 173/200\n",
      "18/18 [==============================] - 0s 4ms/step - loss: 0.0161 - val_loss: 0.0192\n",
      "Epoch 174/200\n",
      "18/18 [==============================] - 0s 3ms/step - loss: 0.0160 - val_loss: 0.0194\n",
      "Epoch 175/200\n",
      "18/18 [==============================] - 0s 3ms/step - loss: 0.0162 - val_loss: 0.0198\n",
      "Epoch 176/200\n",
      "18/18 [==============================] - 0s 3ms/step - loss: 0.0164 - val_loss: 0.0197\n",
      "Epoch 177/200\n",
      "18/18 [==============================] - 0s 4ms/step - loss: 0.0163 - val_loss: 0.0193\n",
      "Epoch 178/200\n",
      "18/18 [==============================] - 0s 4ms/step - loss: 0.0161 - val_loss: 0.0193\n",
      "Epoch 179/200\n",
      "18/18 [==============================] - 0s 4ms/step - loss: 0.0162 - val_loss: 0.0193\n",
      "Epoch 180/200\n",
      "18/18 [==============================] - 0s 4ms/step - loss: 0.0161 - val_loss: 0.0193\n",
      "Epoch 181/200\n",
      "18/18 [==============================] - 0s 4ms/step - loss: 0.0162 - val_loss: 0.0194\n",
      "Epoch 182/200\n",
      "18/18 [==============================] - 0s 4ms/step - loss: 0.0161 - val_loss: 0.0192\n",
      "Epoch 183/200\n",
      "18/18 [==============================] - 0s 3ms/step - loss: 0.0161 - val_loss: 0.0193\n",
      "Epoch 184/200\n",
      "18/18 [==============================] - 0s 4ms/step - loss: 0.0160 - val_loss: 0.0193\n",
      "Epoch 185/200\n",
      "18/18 [==============================] - 0s 4ms/step - loss: 0.0160 - val_loss: 0.0193\n",
      "Epoch 186/200\n",
      "18/18 [==============================] - 0s 3ms/step - loss: 0.0161 - val_loss: 0.0194\n",
      "Epoch 187/200\n",
      "18/18 [==============================] - 0s 3ms/step - loss: 0.0161 - val_loss: 0.0192\n",
      "Epoch 188/200\n",
      "18/18 [==============================] - 0s 4ms/step - loss: 0.0160 - val_loss: 0.0193\n",
      "Epoch 189/200\n",
      "18/18 [==============================] - 0s 3ms/step - loss: 0.0161 - val_loss: 0.0192\n",
      "Epoch 190/200\n",
      "18/18 [==============================] - 0s 3ms/step - loss: 0.0160 - val_loss: 0.0194\n",
      "Epoch 191/200\n",
      "18/18 [==============================] - 0s 3ms/step - loss: 0.0160 - val_loss: 0.0191\n",
      "Epoch 192/200\n",
      "18/18 [==============================] - 0s 3ms/step - loss: 0.0160 - val_loss: 0.0194\n",
      "Epoch 193/200\n",
      "18/18 [==============================] - 0s 4ms/step - loss: 0.0160 - val_loss: 0.0191\n",
      "Epoch 194/200\n",
      "18/18 [==============================] - 0s 3ms/step - loss: 0.0161 - val_loss: 0.0193\n",
      "Epoch 195/200\n",
      "18/18 [==============================] - 0s 3ms/step - loss: 0.0161 - val_loss: 0.0192\n",
      "Epoch 196/200\n",
      "18/18 [==============================] - 0s 3ms/step - loss: 0.0161 - val_loss: 0.0193\n",
      "Epoch 197/200\n",
      "18/18 [==============================] - 0s 3ms/step - loss: 0.0161 - val_loss: 0.0192\n",
      "Epoch 198/200\n",
      "18/18 [==============================] - 0s 3ms/step - loss: 0.0160 - val_loss: 0.0192\n",
      "Epoch 199/200\n",
      "18/18 [==============================] - 0s 4ms/step - loss: 0.0160 - val_loss: 0.0193\n",
      "Epoch 200/200\n",
      "18/18 [==============================] - 0s 4ms/step - loss: 0.0160 - val_loss: 0.0193\n"
     ]
    }
   ],
   "source": [
    "history = autoencoder.fit(normal_train_data, normal_train_data, \n",
    "          epochs=200, \n",
    "          batch_size=32,\n",
    "          validation_data=(test_data, test_data),\n",
    "          shuffle=True)"
   ]
  },
  {
   "cell_type": "code",
   "execution_count": 145,
   "metadata": {},
   "outputs": [
    {
     "data": {
      "text/plain": [
       "<matplotlib.legend.Legend at 0x24ae0413c70>"
      ]
     },
     "execution_count": 145,
     "metadata": {},
     "output_type": "execute_result"
    },
    {
     "data": {
      "image/png": "[encoded data removed]",
      "text/plain": [
       "<Figure size 432x288 with 1 Axes>"
      ]
     },
     "metadata": {
      "needs_background": "light"
     },
     "output_type": "display_data"
    }
   ],
   "source": [
    "plt.plot(history.history[\"loss\"], label=\"Training Loss\")\n",
    "plt.plot(history.history[\"val_loss\"], label=\"Validation Loss\")\n",
    "plt.legend()"
   ]
  },
  {
   "cell_type": "code",
   "execution_count": 146,
   "metadata": {},
   "outputs": [
    {
     "data": {
      "image/png": "[encoded data removed]",
      "text/plain": [
       "<Figure size 432x288 with 1 Axes>"
      ]
     },
     "metadata": {
      "needs_background": "light"
     },
     "output_type": "display_data"
    }
   ],
   "source": [
    "encoded_data = autoencoder.encoder(normal_test_data).numpy()\n",
    "decoded_data = autoencoder.decoder(encoded_data).numpy()\n",
    "\n",
    "plt.plot(normal_test_data[0], 'b')\n",
    "plt.plot(decoded_data[0], 'g')\n",
    "plt.fill_between(np.arange(96), decoded_data[0], normal_test_data[0], color='lightcoral')\n",
    "plt.legend(labels=[\"Input\", \"Reconstruction\", \"Error\"])\n",
    "plt.show()"
   ]
  },
  {
   "cell_type": "code",
   "execution_count": 135,
   "metadata": {},
   "outputs": [
    {
     "data": {
      "text/plain": [
       "-0.0010003598"
      ]
     },
     "execution_count": 135,
     "metadata": {},
     "output_type": "execute_result"
    }
   ],
   "source": [
    "err_normal = decoded_data[0] - normal_test_data[0]\n",
    "np.mean(err_normal)"
   ]
  },
  {
   "cell_type": "markdown",
   "metadata": {},
   "source": [
    "- You will soon classify an ECG as anomalous if the reconstruction error is greater than one standard deviation from the normal training examples. First, let's plot a normal ECG from the training set, the reconstruction after it's encoded and decoded by the autoencoder, and the reconstruction error.\n",
    "\n",
    "\n"
   ]
  },
  {
   "cell_type": "code",
   "execution_count": 136,
   "metadata": {},
   "outputs": [
    {
     "data": {
      "image/png": "[encoded data removed]",
      "text/plain": [
       "<Figure size 432x288 with 1 Axes>"
      ]
     },
     "metadata": {
      "needs_background": "light"
     },
     "output_type": "display_data"
    }
   ],
   "source": [
    "encoded_data = autoencoder.encoder(anomalous_test_data).numpy()\n",
    "decoded_data = autoencoder.decoder(encoded_data).numpy()\n",
    "\n",
    "plt.plot(anomalous_test_data[0], 'b')\n",
    "plt.plot(decoded_data[0], 'g')\n",
    "plt.fill_between(np.arange(96), decoded_data[0], anomalous_test_data[0], color='lightcoral')\n",
    "plt.legend(labels=[\"Input\", \"Reconstruction\", \"Error\"])\n",
    "plt.show()"
   ]
  },
  {
   "cell_type": "code",
   "execution_count": 137,
   "metadata": {},
   "outputs": [
    {
     "data": {
      "text/plain": [
       "-0.19507842"
      ]
     },
     "execution_count": 137,
     "metadata": {},
     "output_type": "execute_result"
    }
   ],
   "source": [
    "err_anormal = decoded_data[0] -  anomalous_test_data[0]\n",
    "np.mean(err_anormal)"
   ]
  },
  {
   "cell_type": "code",
   "execution_count": 138,
   "metadata": {},
   "outputs": [
    {
     "data": {
      "text/plain": [
       "<tf.Tensor: shape=(96,), dtype=float32, numpy=\n",
       "array([0.19910179, 0.18413174, 0.18113773, 0.1751497 , 0.17065868,\n",
       "       0.17065868, 0.15868263, 0.15269461, 0.1497006 , 0.15269461,\n",
       "       0.15568863, 0.15568863, 0.1482036 , 0.14071856, 0.13323353,\n",
       "       0.13473053, 0.1482036 , 0.1482036 , 0.15718563, 0.19461077,\n",
       "       0.19461077, 0.19461077, 0.22155689, 0.19760479, 0.2020958 ,\n",
       "       0.19910179, 0.19910179, 0.18862276, 0.19610779, 0.18413174,\n",
       "       0.20958084, 0.23353294, 0.24401198, 0.2754491 , 0.31437126,\n",
       "       0.31287426, 0.2994012 , 0.2994012 , 0.2949102 , 0.33233532,\n",
       "       0.33532935, 0.36526945, 0.38922155, 0.36676645, 0.37125748,\n",
       "       0.37125748, 0.4071856 , 0.4491018 , 0.45808384, 0.48652694,\n",
       "       0.48203593, 0.498503  , 0.498503  , 0.5329341 , 0.53892213,\n",
       "       0.5449102 , 0.4775449 , 0.46407187, 0.4505988 , 0.43263474,\n",
       "       0.4505988 , 0.4505988 , 0.45808384, 0.45658684, 0.47005987,\n",
       "       0.46706587, 0.51047903, 0.5703593 , 0.5643712 , 0.58832335,\n",
       "       0.58832335, 0.59431136, 0.6511976 , 0.6511976 , 0.6407186 ,\n",
       "       0.6062874 , 0.6407186 , 0.6407186 , 0.6407186 , 0.5479042 ,\n",
       "       0.50898206, 0.502994  , 0.49101797, 0.4775449 , 0.4550898 ,\n",
       "       0.4550898 , 0.4550898 , 0.44610777, 0.45808384, 0.45658684,\n",
       "       0.44610777, 0.44461077, 0.48952097, 0.4775449 , 0.48203593,\n",
       "       0.44311377], dtype=float32)>"
      ]
     },
     "execution_count": 138,
     "metadata": {},
     "output_type": "execute_result"
    }
   ],
   "source": [
    "anomalous_test_data[2]"
   ]
  },
  {
   "cell_type": "code",
   "execution_count": 139,
   "metadata": {},
   "outputs": [],
   "source": [
    "arr1 = np.array([[1, 2, 3],\n",
    "                 [3, 2, 1]])\n",
    "                 \n",
    "arr2 = np.array([[1, 2, 3],\n",
    "                 [3, 2, 1]])    "
   ]
  },
  {
   "cell_type": "code",
   "execution_count": 140,
   "metadata": {},
   "outputs": [
    {
     "data": {
      "text/plain": [
       "array([[0, 0, 0],\n",
       "       [0, 0, 0]])"
      ]
     },
     "execution_count": 140,
     "metadata": {},
     "output_type": "execute_result"
    }
   ],
   "source": [
    "arr1-arr2"
   ]
  },
  {
   "cell_type": "code",
   "execution_count": null,
   "metadata": {},
   "outputs": [],
   "source": []
  },
  {
   "cell_type": "code",
   "execution_count": null,
   "metadata": {},
   "outputs": [],
   "source": []
  },
  {
   "cell_type": "code",
   "execution_count": null,
   "metadata": {},
   "outputs": [],
   "source": []
  }
 ],
 "metadata": {
  "kernelspec": {
   "display_name": "Python 3",
   "language": "python",
   "name": "python3"
  },
  "language_info": {
   "codemirror_mode": {
    "name": "ipython",
    "version": 3
   },
   "file_extension": ".py",
   "mimetype": "text/x-python",
   "name": "python",
   "nbconvert_exporter": "python",
   "pygments_lexer": "ipython3",
   "version": "3.9.5"
  }
 },
 "nbformat": 4,
 "nbformat_minor": 2
}
