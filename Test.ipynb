{
 "cells": [
  {
   "cell_type": "code",
   "execution_count": 1,
   "metadata": {},
   "outputs": [],
   "source": [
    "import numpy as np"
   ]
  },
  {
   "cell_type": "code",
   "execution_count": 2,
   "metadata": {},
   "outputs": [],
   "source": [
    "arr = np.array([[1, 2, 3, 4, 5],\n",
    "          [4, 3, 5, 6, 7]])"
   ]
  },
  {
   "cell_type": "code",
   "execution_count": 3,
   "metadata": {},
   "outputs": [
    {
     "data": {
      "text/plain": [
       "array([1, 2, 3, 4, 5])"
      ]
     },
     "execution_count": 3,
     "metadata": {},
     "output_type": "execute_result"
    }
   ],
   "source": [
    "arr[0]"
   ]
  },
  {
   "cell_type": "code",
   "execution_count": 5,
   "metadata": {},
   "outputs": [
    {
     "data": {
      "text/plain": [
       "4.605170185988092"
      ]
     },
     "execution_count": 5,
     "metadata": {},
     "output_type": "execute_result"
    }
   ],
   "source": [
    "np.log(100)"
   ]
  },
  {
   "cell_type": "code",
   "execution_count": null,
   "metadata": {},
   "outputs": [],
   "source": []
  },
  {
   "cell_type": "code",
   "execution_count": 22,
   "metadata": {},
   "outputs": [
    {
     "name": "stdout",
     "output_type": "stream",
     "text": [
      "enter number of times: 2\n",
      "enter string Hacker\n",
      "enter string Rank\n",
      "Hce akr\n",
      "Rn ak\n"
     ]
    }
   ],
   "source": [
    "number = input(\"enter number of times: \")\n",
    "number = int(number)\n",
    "lista_stringhe = []\n",
    "while number > 0: \n",
    "    string = input('enter string ')\n",
    "    lista_stringhe.append(string)\n",
    "    number -= 1\n",
    "\n",
    "for i in lista_stringhe: \n",
    "    s1 = ''\n",
    "    s2 = ''\n",
    "    for j in range(0, len(i)): \n",
    "    \n",
    "        if j % 2 == 0:\n",
    "            s1 += i[j]\n",
    "        else: \n",
    "            s2 += i[j]\n",
    "    print(s1+\" \"+s2)  "
   ]
  },
  {
   "cell_type": "code",
   "execution_count": null,
   "metadata": {},
   "outputs": [],
   "source": []
  },
  {
   "cell_type": "code",
   "execution_count": 11,
   "metadata": {},
   "outputs": [
    {
     "name": "stdout",
     "output_type": "stream",
     "text": [
      "caca ioio\n"
     ]
    }
   ],
   "source": [
    "s = \"ciaociao\"\n",
    "s1 = ''\n",
    "s2 = ''\n",
    "for i in range(0, len(s)):\n",
    "    if i % 2 == 0:\n",
    "        s1 += s[i]\n",
    "    else: \n",
    "        s2 += s[i]\n",
    "print(s1+\" \"+s2)        "
   ]
  },
  {
   "cell_type": "code",
   "execution_count": null,
   "metadata": {},
   "outputs": [],
   "source": []
  }
 ],
 "metadata": {
  "kernelspec": {
   "display_name": "Python 3",
   "language": "python",
   "name": "python3"
  },
  "language_info": {
   "codemirror_mode": {
    "name": "ipython",
    "version": 3
   },
   "file_extension": ".py",
   "mimetype": "text/x-python",
   "name": "python",
   "nbconvert_exporter": "python",
   "pygments_lexer": "ipython3",
   "version": "3.7.4"
  }
 },
 "nbformat": 4,
 "nbformat_minor": 2
}
